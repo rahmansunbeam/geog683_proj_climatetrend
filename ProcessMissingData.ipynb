{
 "cells": [
  {
   "cell_type": "markdown",
   "metadata": {},
   "source": [
    "### Process missing weather station data"
   ]
  },
  {
   "cell_type": "markdown",
   "metadata": {},
   "source": [
    "#### Fill missing ECCC station data with 3-hour moving average"
   ]
  },
  {
   "cell_type": "code",
   "execution_count": null,
   "metadata": {},
   "outputs": [
    {
     "name": "stdout",
     "output_type": "stream",
     "text": [
      "Filled data saved to D:\\UCalgary_Lectures\\GEOG_683\\Data_workspace\\BBox\\ECCC_station_data_BBox_small_1_2_3_4_5_6_7_8_9_10_11_12_filled.csv\n"
     ]
    }
   ],
   "source": [
    "import pandas as pd\n",
    "from pathlib import Path\n",
    "\n",
    "def eccc_fill_wind_dir_gaps(input_csv):\n",
    "    \"\"\"\n",
    "    Reads wind direction data from a CSV file, fills gaps in 'winddirsde' using a 3-hour circular moving \n",
    "    average per climate ID and year without altering existing non-missing values, and saves the filled data \n",
    "    to a new CSV file.\n",
    "\n",
    "    Parameters:\n",
    "    csv_file (str or Path): Path to the input CSV file containing 'climate id', 'year', and 'winddirsde' columns.\n",
    "    \"\"\"\n",
    "    data = pd.read_csv(input_csv, low_memory=False)\n",
    "\n",
    "    if not all(col in data.columns for col in ['climate id', 'year', 'winddirsde']):\n",
    "        raise ValueError(\"The input CSV file must contain 'climate id', 'year', and 'winddirsde' columns.\")\n",
    "\n",
    "    data['winddirsde'] = data.groupby(['climate id', 'year'])['winddirsde'].transform(\n",
    "        lambda group: group.interpolate(method='nearest', limit_direction='both')\n",
    "    )\n",
    "\n",
    "    output_file = Path(input_csv).with_name(f\"{Path(input_csv).stem}_filled.csv\")\n",
    "    data.to_csv(output_file, index=False, float_format='%.2f')\n",
    "    print(f\"Filled data saved to {output_file}\")\n",
    "\n",
    "# Usage example\n",
    "csv_file = r\"D:\\UCalgary_Lectures\\GEOG_683\\Data_workspace\\BBox\\ECCC_station_data_BBox_small_1_2_3_4_5_6_7_8_9_10_11_12.csv\"\n",
    "eccc_fill_wind_dir_gaps(csv_file)\n"
   ]
  },
  {
   "cell_type": "markdown",
   "metadata": {},
   "source": [
    "#### Fill missing ACIS station data with interpolation"
   ]
  },
  {
   "cell_type": "code",
   "execution_count": null,
   "metadata": {},
   "outputs": [
    {
     "name": "stdout",
     "output_type": "stream",
     "text": [
      "Filled data saved to D:\\UCalgary_Lectures\\GEOG_683\\Data_workspace\\ACIS_Data\\ACIS_station_data_filled.csv\n"
     ]
    }
   ],
   "source": [
    "import pandas as pd\n",
    "from pathlib import Path\n",
    "\n",
    "def acis_fill_wind_dir_gaps(input_csv):\n",
    "    \"\"\"\n",
    "    Reads wind direction data from an ACIS CSV file, fills gaps in 'winddir' using nearest-neighbor interpolation\n",
    "    grouped by 'station name' and 'year', and saves the filled data to a new CSV file.\n",
    "\n",
    "    Parameters:\n",
    "    input_csv (str or Path): Path to the input CSV file containing 'station name', 'datetime', and 'winddir' columns.\n",
    "    \"\"\"\n",
    "    data = pd.read_csv(input_csv, low_memory=False)\n",
    "    if not all(col in data.columns for col in ['station name', 'datetime', 'winddir']):\n",
    "        raise ValueError(\"The input CSV file must contain 'station name', 'datetime', and 'winddir' columns.\")\n",
    "\n",
    "    data['datetime'] = pd.to_datetime(data['datetime'])\n",
    "    data['year'] = data['datetime'].dt.year\n",
    "\n",
    "    data['winddir'] = data.groupby(['station name', 'year'])['winddir'].transform(\n",
    "        lambda group: group.interpolate(method='nearest', limit_direction='both')\n",
    "    )\n",
    "\n",
    "    data.drop(columns=['year'], inplace=True)\n",
    "    output_file = Path(input_csv).with_name(f\"{Path(input_csv).stem}_filled.csv\")\n",
    "    data.to_csv(output_file, index=False)\n",
    "    print(f\"Filled data saved to {output_file}\")\n",
    "\n",
    "# Usage example\n",
    "csv_file = r\"D:\\UCalgary_Lectures\\GEOG_683\\Data_workspace\\ACIS_Data\\ACIS_station_data.csv\"\n",
    "acis_fill_wind_dir_gaps(csv_file)\n"
   ]
  }
 ],
 "metadata": {
  "kernelspec": {
   "display_name": "Python 3",
   "language": "python",
   "name": "python3"
  },
  "language_info": {
   "codemirror_mode": {
    "name": "ipython",
    "version": 3
   },
   "file_extension": ".py",
   "mimetype": "text/x-python",
   "name": "python",
   "nbconvert_exporter": "python",
   "pygments_lexer": "ipython3",
   "version": "3.11.8"
  }
 },
 "nbformat": 4,
 "nbformat_minor": 2
}
