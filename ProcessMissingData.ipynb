{
 "cells": [
  {
   "cell_type": "markdown",
   "metadata": {},
   "source": [
    "### Process missing weather station data"
   ]
  },
  {
   "cell_type": "markdown",
   "metadata": {},
   "source": [
    "#### Fill missing ECCC station data with interpolation"
   ]
  },
  {
   "cell_type": "code",
   "execution_count": null,
   "metadata": {},
   "outputs": [],
   "source": [
    "import pandas as pd\n",
    "from pathlib import Path\n",
    "\n",
    "def eccc_fill_wind_dir_gaps(input_csv):\n",
    "    \"\"\"\n",
    "    Reads wind direction data, checks for gaps in 'date/time (lst)' within a 7-day threshold,\n",
    "    fills missing rows, and interpolates 'winddirsde' using nearest-neighbor interpolation \n",
    "    grouped by 'climate id' and 'month'.\n",
    "\n",
    "    Parameters:\n",
    "    input_csv (str or Path): Path to the input CSV file containing required columns.\n",
    "    \"\"\"\n",
    "    data = pd.read_csv(input_csv, low_memory=False, parse_dates=['date/time (lst)'])\n",
    "    required_columns = ['climate id', 'year', 'month', 'day', 'time (lst)', \n",
    "                        'longitude (x)', 'latitude (y)', 'station name', 'winddirsde']\n",
    "    if not all(col in data.columns for col in required_columns):\n",
    "        raise ValueError(f\"Input CSV must contain {required_columns}\")\n",
    "\n",
    "    # Sort and process groups to fill gaps in 'date/time (lst)' within 7 days\n",
    "    filled_data = []\n",
    "    for (climate_id, year, month), group in data.sort_values(by=['climate id', 'year', 'month', 'date/time (lst)']).groupby(['climate id', 'year', 'month']):\n",
    "        if (group['date/time (lst)'].diff().dt.total_seconds() / 3600).max() > 1:\n",
    "            group = group.set_index('date/time (lst)').resample('H').asfreq().reset_index()\n",
    "            group[['climate id', 'year', 'month']] = climate_id, year, month\n",
    "            group['day'], group['time (lst)'] = group['date/time (lst)'].dt.day, group['date/time (lst)'].dt.time\n",
    "            group[['longitude (x)', 'latitude (y)', 'station name']] = group[['longitude (x)', 'latitude (y)', 'station name']].ffill().bfill()\n",
    "        filled_data.append(group)\n",
    "\n",
    "    # Concatenate and interpolate 'winddirsde'\n",
    "    data_filled = pd.concat(filled_data).reset_index(drop=True)\n",
    "    data_filled['winddirsde'] = data_filled.groupby(['climate id', 'month'])['winddirsde'].transform(\n",
    "        lambda x: x.interpolate(method='nearest', limit_direction='both')\n",
    "    )\n",
    "\n",
    "    # Save output\n",
    "    output_file = Path(input_csv).with_name(f\"{Path(input_csv).stem}_filled.csv\")\n",
    "    data_filled.to_csv(output_file, index=False, float_format='%.2f')\n",
    "    print(f\"Filled data saved to {output_file}\")\n",
    "\n",
    "# Example usage\n",
    "csv_file = r\"D:\\UCalgary_Lectures\\GEOG_683\\Data_workspace\\BBox\\ECCC_station_data_BBox_small_12_1_2.csv\"\n",
    "eccc_fill_wind_dir_gaps(csv_file)\n"
   ]
  },
  {
   "cell_type": "markdown",
   "metadata": {},
   "source": [
    "#### Fill missing ACIS station data with interpolation"
   ]
  },
  {
   "cell_type": "code",
   "execution_count": null,
   "metadata": {},
   "outputs": [],
   "source": [
    "import pandas as pd\n",
    "from pathlib import Path\n",
    "\n",
    "def acis_fill_wind_dir_gaps(input_csv):\n",
    "    \"\"\"\n",
    "    Reads wind direction data, fills missing 'datetime' rows within a 7-day threshold and interpolates 'winddir'\n",
    "    grouped by 'station name' and 'year', then saves the filled data to a new CSV file.\n",
    "\n",
    "    Parameters:\n",
    "    input_csv (str or Path): Path to the input CSV file containing 'station name', 'datetime', and 'winddir' columns.\n",
    "    \"\"\"\n",
    "    data = pd.read_csv(input_csv, low_memory=False, parse_dates=['datetime'])\n",
    "    if not all(col in data.columns for col in ['station name', 'datetime', 'winddir']):\n",
    "        raise ValueError(\"Input CSV must contain 'station name', 'datetime', and 'winddir' columns.\")\n",
    "\n",
    "    data['year'] = data['datetime'].dt.year\n",
    "    data = data.sort_values(['station name', 'year', 'datetime'])\n",
    "\n",
    "    # Process groups and fill missing rows in 'datetime' within a 7-day threshold\n",
    "    filled_data = []\n",
    "    for (station_name, year), group in data.groupby(['station name', 'year']):\n",
    "        if (group['datetime'].diff().dt.total_seconds() / 3600).max() > 1:\n",
    "            group = group.set_index('datetime').resample('H').asfreq().reset_index()\n",
    "            group[['station name', 'year']] = station_name, year\n",
    "        filled_data.append(group)\n",
    "\n",
    "    data_filled = pd.concat(filled_data).reset_index(drop=True)\n",
    "\n",
    "    # Interpolate 'winddir' for each station and year\n",
    "    data_filled['winddir'] = data_filled.groupby(['station name', 'year'])['winddir'].transform(\n",
    "        lambda x: x.interpolate(method='nearest', limit_direction='both')\n",
    "    )\n",
    "\n",
    "    # Save output\n",
    "    output_file = Path(input_csv).with_name(f\"{Path(input_csv).stem}_filled.csv\")\n",
    "    data_filled.drop(columns=['year']).to_csv(output_file, index=False)\n",
    "    print(f\"Filled data saved to {output_file}\")\n",
    "\n",
    "# Example usage\n",
    "csv_file = r\"D:\\UCalgary_Lectures\\GEOG_683\\Data_workspace\\ACIS_Data\\ACIS_station_data.csv\"\n",
    "acis_fill_wind_dir_gaps(csv_file)\n"
   ]
  },
  {
   "cell_type": "markdown",
   "metadata": {},
   "source": [
    "### Validate the ERA5 NC data with station data"
   ]
  },
  {
   "cell_type": "markdown",
   "metadata": {},
   "source": [
    "#### Validate using ECCC filled CSV file"
   ]
  },
  {
   "cell_type": "code",
   "execution_count": 12,
   "metadata": {},
   "outputs": [
    {
     "name": "stdout",
     "output_type": "stream",
     "text": [
      "Output saved to D:\\UCalgary_Lectures\\GEOG_683\\Data_workspace\\Daily_multilevel\\Windir_1950_2024_Dec\\data_stream-oper_BBox_large_masked_CALGARY INT'L A_LETHBRIDGE A_ECCC_comparison.csv\n"
     ]
    }
   ],
   "source": [
    "import pandas as pd\n",
    "import numpy as np\n",
    "import xarray as xr\n",
    "from pathlib import Path\n",
    "\n",
    "def validate_era5_station_data_by_eccc_station_data(nc_file, station_csv, station_names):\n",
    "    \"\"\"\n",
    "    Processes ERA5 NC data and station CSV data to extract daily mean wind direction\n",
    "    and match data by time, generating an output CSV with comparison.\n",
    "\n",
    "    Parameters:\n",
    "    - nc_file (str): Path to the ERA5 NetCDF file.\n",
    "    - station_csv (str): Path to the station CSV file.\n",
    "    - station_names (list): List of station names to process.\n",
    "    \"\"\"\n",
    "    station_data = pd.read_csv(station_csv, low_memory=False)\n",
    "    station_data['date/time (lst)'] = pd.to_datetime(station_data['date/time (lst)'], errors='coerce')\n",
    "    station_data = station_data[station_data['station name'].isin(station_names)]\n",
    "    station_daily = station_data.groupby(\n",
    "        ['station name', 'climate id', 'latitude (y)', 'longitude (x)', 'year', 'month', 'day']\n",
    "    ).agg({'winddirsde': lambda x: np.mean(x.dropna() * 10) if len(x.dropna()) > 0 else np.nan}).reset_index()\n",
    "    station_daily.rename(columns={'winddirsde': 'Y (mean direction of weath st)'}, inplace=True)\n",
    "\n",
    "    era5_data = xr.open_dataset(nc_file, engine='netcdf4')\n",
    "    nc_years_months = set(pd.to_datetime(era5_data['valid_time'].values).strftime('%Y-%m'))\n",
    "\n",
    "    def calculate_wind_direction(u, v):\n",
    "        wind_dir_rad = np.median(np.rad2deg(np.arctan2(u, v)))\n",
    "        return np.mod(270 + wind_dir_rad, 360)\n",
    "\n",
    "    output = []\n",
    "    for _, variant in station_daily[['latitude (y)', 'longitude (x)', 'climate id']].drop_duplicates().iterrows():\n",
    "        u, v = era5_data['u'].sel(latitude=variant['latitude (y)'], longitude=variant['longitude (x)'], method='nearest'), \\\n",
    "               era5_data['v'].sel(latitude=variant['latitude (y)'], longitude=variant['longitude (x)'], method='nearest')\n",
    "        time_indices = pd.to_datetime(u['valid_time'].values)\n",
    "        daily = pd.DataFrame([\n",
    "            (day, calculate_wind_direction(\n",
    "                u.values[time_indices.floor('D') == day],\n",
    "                v.values[time_indices.floor('D') == day]\n",
    "            ))\n",
    "            for day in time_indices.to_series().dt.floor('D').unique()\n",
    "        ], columns=['time', 'X (mean direction of NC)'])\n",
    "\n",
    "        daily['year'] = daily['time'].dt.year\n",
    "        daily['month'] = daily['time'].dt.month\n",
    "        daily['day'] = daily['time'].dt.day\n",
    "\n",
    "        filtered = station_daily[\n",
    "            (station_daily['climate id'] == variant['climate id']) &\n",
    "            (station_daily[['year', 'month']].apply(lambda x: f\"{x[0]}-{x[1]:02}\", axis=1).isin(nc_years_months))\n",
    "        ]\n",
    "        output.append(pd.merge(daily, filtered, on=['year', 'month', 'day'], how='inner'))\n",
    "\n",
    "    output_csv = Path(nc_file).with_name(f\"{Path(nc_file).stem}_{'_'.join(station_names)}_ECCC_comparison.csv\")\n",
    "\n",
    "    pd.concat(output, ignore_index=True)[[\n",
    "        'station name', 'climate id', 'latitude (y)', 'longitude (x)', 'year', 'month', 'day',\n",
    "        'X (mean direction of NC)', 'Y (mean direction of weath st)'\n",
    "    ]].to_csv(output_csv, index=False)\n",
    "\n",
    "    print(f\"Output saved to {output_csv}\")\n",
    "\n",
    "# Core\n",
    "# nc_file = r\"D:\\UCalgary_Lectures\\GEOG_683\\Data_workspace\\Daily_multilevel\\Windir_1950_2024_Dec\\data_stream-oper_BBox_small_masked.nc\"\n",
    "# station_csv = r\"D:\\UCalgary_Lectures\\GEOG_683\\Data_workspace\\BBox\\ECCC_station_data_BBox_small_12_1_2_filled.csv\"\n",
    "# station_names = [\"BROOKS\", \"MEDICINE HAT A\", \"SUFFIELD A\"]\n",
    "\n",
    "# Outer core\n",
    "nc_file = r\"D:\\UCalgary_Lectures\\GEOG_683\\Data_workspace\\Daily_multilevel\\Windir_1950_2024_Dec\\data_stream-oper_BBox_large_masked.nc\"\n",
    "station_csv = r\"D:\\UCalgary_Lectures\\GEOG_683\\Data_workspace\\BBox\\ECCC_station_data_BBox_large_12_1_2_filled.csv\"\n",
    "station_names = [\"CALGARY INT'L A\", \"LETHBRIDGE A\"]\n",
    "\n",
    "validate_era5_station_data_by_eccc_station_data(nc_file, station_csv, station_names)\n"
   ]
  },
  {
   "cell_type": "markdown",
   "metadata": {},
   "source": [
    "#### Validate using ACIS filled CSV"
   ]
  },
  {
   "cell_type": "code",
   "execution_count": 20,
   "metadata": {},
   "outputs": [
    {
     "name": "stdout",
     "output_type": "stream",
     "text": [
      "Output saved to D:\\UCalgary_Lectures\\GEOG_683\\Data_workspace\\Daily_multilevel\\Windir_1950_2024_Dec\\data_stream-oper_BBox_large_masked_Hussar AGDM_Acadia Valley AGCM_ACIS_comparison.csv\n"
     ]
    }
   ],
   "source": [
    "import pandas as pd\n",
    "import numpy as np\n",
    "import xarray as xr\n",
    "from pathlib import Path\n",
    "\n",
    "def validate_era5_station_data_by_acis_station_data(nc_file, station_csv, station_names):\n",
    "    \"\"\"\n",
    "    Processes ERA5 NC data and ACIS station CSV data to extract daily mean wind direction\n",
    "    and match data by time, generating an output CSV with comparison.\n",
    "\n",
    "    Parameters:\n",
    "    - nc_file (str): Path to the ERA5 NetCDF file.\n",
    "    - station_csv (str): Path to the ACIS station CSV file.\n",
    "    - station_names (list): List of station names to process.\n",
    "    \"\"\"\n",
    "    station_data = pd.read_csv(station_csv, low_memory=False)\n",
    "    station_data['datetime'] = pd.to_datetime(station_data['datetime'], errors='coerce')\n",
    "    station_data = station_data[station_data['station name'].isin(station_names)]\n",
    "    \n",
    "    station_daily = station_data.groupby(\n",
    "        ['station name', 'latitude', 'longitude', station_data['datetime'].dt.year.rename('year'), station_data['datetime'].dt.month.rename('month'), station_data['datetime'].dt.day.rename('day')]\n",
    "    ).agg({'winddir': lambda x: np.mean(x.dropna()), 'atmostemp': lambda x: np.mean(x.dropna())}).reset_index()\n",
    "    station_daily.rename(columns={\n",
    "        'winddir': 'Y (mean direction of station)',\n",
    "        'atmostemp': 'Y (mean temp of station)'\n",
    "    }, inplace=True)\n",
    "\n",
    "    era5_data = xr.open_dataset(nc_file, engine='netcdf4')\n",
    "    nc_time = pd.to_datetime(era5_data['valid_time'].values)\n",
    "    nc_years_months = set(nc_time.strftime('%Y-%m'))\n",
    "\n",
    "    def calculate_wind_direction(u, v):\n",
    "        wind_dir_rad = np.median(np.rad2deg(np.arctan2(u, v)))\n",
    "        return np.mod(270 + wind_dir_rad, 360)\n",
    "\n",
    "    output = []\n",
    "    for _, variant in station_daily[['latitude', 'longitude']].drop_duplicates().iterrows():\n",
    "        u, v = era5_data['u'].sel(latitude=variant['latitude'], longitude=variant['longitude'], method='nearest'), \\\n",
    "               era5_data['v'].sel(latitude=variant['latitude'], longitude=variant['longitude'], method='nearest')\n",
    "        time_indices = pd.to_datetime(u['valid_time'].values)\n",
    "        daily = pd.DataFrame([\n",
    "            (day, calculate_wind_direction(\n",
    "                u.values[time_indices.floor('D') == day],\n",
    "                v.values[time_indices.floor('D') == day]\n",
    "            ))\n",
    "            for day in time_indices.to_series().dt.floor('D').unique()\n",
    "        ], columns=['time', 'X (mean direction of NC)'])\n",
    "\n",
    "        daily['year'] = daily['time'].dt.year\n",
    "        daily['month'] = daily['time'].dt.month\n",
    "        daily['day'] = daily['time'].dt.day\n",
    "\n",
    "        filtered = station_daily[\n",
    "            (station_daily['latitude'] == variant['latitude']) &\n",
    "            (station_daily['longitude'] == variant['longitude']) &\n",
    "            (station_daily[['year', 'month']].apply(lambda x: f\"{x[0]}-{x[1]:02}\", axis=1).isin(nc_years_months))\n",
    "        ]\n",
    "        output.append(pd.merge(daily, filtered, on=['year', 'month', 'day'], how='inner'))\n",
    "\n",
    "    output_csv = Path(nc_file).with_name(f\"{Path(nc_file).stem}_{'_'.join(station_names)}_ACIS_comparison.csv\")\n",
    "    pd.concat(output, ignore_index=True)[[\n",
    "        'station name', 'latitude', 'longitude', 'year', 'month', 'day',\n",
    "        'X (mean direction of NC)', 'Y (mean direction of station)', 'Y (mean temp of station)'\n",
    "    ]].to_csv(output_csv, index=False)\n",
    "\n",
    "    print(f\"Output saved to {output_csv}\")\n",
    "\n",
    "# Core\n",
    "# station_csv = r\"D:\\UCalgary_Lectures\\GEOG_683\\Data_workspace\\ACIS_Data\\ACIS_station_data_filled.csv\"\n",
    "# nc_file = r\"D:\\UCalgary_Lectures\\GEOG_683\\Data_workspace\\Daily_multilevel\\Windir_1950_2024_Dec\\data_stream-oper_BBox_small_masked.nc\"\n",
    "# station_names = [\"Brooks\",\"Fincastle IMCIN\", \"Onefour CDA\"]\n",
    "\n",
    "# Outer core\n",
    "station_csv = r\"D:\\UCalgary_Lectures\\GEOG_683\\Data_workspace\\ACIS_Data\\ACIS_station_data_filled.csv\"\n",
    "nc_file = r\"D:\\UCalgary_Lectures\\GEOG_683\\Data_workspace\\Daily_multilevel\\Windir_1950_2024_Dec\\data_stream-oper_BBox_large_masked.nc\"\n",
    "station_names = [\"Hussar AGDM\", \"Acadia Valley AGCM\"]\n",
    "\n",
    "station_csv = r\"D:\\UCalgary_Lectures\\GEOG_683\\Data_workspace\\ACIS_Data\\ACIS_station_data_filled.csv\"\n",
    "validate_era5_station_data_by_acis_station_data(nc_file, station_csv, station_names)\n"
   ]
  },
  {
   "cell_type": "markdown",
   "metadata": {},
   "source": [
    "#### Get the Q-Q plot comparing the between ERA5 and weather station data"
   ]
  },
  {
   "cell_type": "code",
   "execution_count": 23,
   "metadata": {},
   "outputs": [
    {
     "data": {
      "image/png": "[encoded data removed]",
      "text/plain": [
       "<Figure size 800x600 with 1 Axes>"
      ]
     },
     "metadata": {},
     "output_type": "display_data"
    }
   ],
   "source": [
    "import pandas as pd\n",
    "import matplotlib.pyplot as plt\n",
    "\n",
    "def generate_qq_plot(file_path, x_col, y_col):\n",
    "    \"\"\"\n",
    "    Generates a Q-Q plot comparing two sets of quantiles from an Excel file.\n",
    "    Parameters:\n",
    "    file_path (str): The path to the Excel file containing the data.\n",
    "    x_col (str): The column name for the x-axis data (ERA5 Wind Directions).\n",
    "    y_col (str): The column name for the y-axis data (ECCC Wind Directions).\n",
    "    \"\"\"\n",
    "\n",
    "    data = pd.read_excel(file_path, sheet_name='Sheet2')\n",
    "\n",
    "    x = data['X rad']\n",
    "    y = data['Y rad']\n",
    "\n",
    "    x_sorted = sorted(x)\n",
    "    y_sorted = sorted(y)\n",
    "\n",
    "    plt.figure(figsize=(8, 6))\n",
    "    plt.scatter(x_sorted, y_sorted, c='blue', label='Q-Q points')\n",
    "    plt.plot([min(x_sorted), max(x_sorted)], [min(x_sorted), max(x_sorted)], color='red', linestyle='--', label='45-degree line')\n",
    "    plt.title('Q-Q Plot: ERA5 vs ACIS')\n",
    "    plt.xlabel('Quantiles of ERA5 Wind Directions (radians)')\n",
    "    plt.ylabel('Quantiles of ACIS Wind Directions (radians)')\n",
    "    plt.legend()\n",
    "    plt.grid(True)\n",
    "    plt.show()\n",
    "\n",
    "file_path = r'D:\\UCalgary_Lectures\\GEOG_683\\Data_workspace\\Daily_multilevel\\Windir_1950_2024_Jan\\data_stream-oper_BBox_small_masked_ECCC_comparison.xlsx'\n",
    "# file_path = r'D:\\UCalgary_Lectures\\GEOG_683\\Data_workspace\\Daily_multilevel\\Windir_1950_2024_Jan\\data_stream-oper_BBox_small_masked_ACIS_comparison.xlsx'\n",
    "generate_qq_plot(file_path, 'X', 'Y')"
   ]
  }
 ],
 "metadata": {
  "kernelspec": {
   "display_name": "arcgispro-py3",
   "language": "python",
   "name": "python3"
  },
  "language_info": {
   "codemirror_mode": {
    "name": "ipython",
    "version": 3
   },
   "file_extension": ".py",
   "mimetype": "text/x-python",
   "name": "python",
   "nbconvert_exporter": "python",
   "pygments_lexer": "ipython3",
   "version": "3.11.10"
  }
 },
 "nbformat": 4,
 "nbformat_minor": 2
}
